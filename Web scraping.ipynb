{
 "cells": [
  {
   "cell_type": "markdown",
   "id": "04c606f0",
   "metadata": {},
   "source": [
    "## Problem 1\n",
    "\n",
    "Write a web scraping script which takes an input of any film actor and gives the output of filmography of that actor in descending order.\n",
    "\n",
    "Use web scraping method\n"
   ]
  },
  {
   "cell_type": "markdown",
   "id": "9a85447e",
   "metadata": {},
   "source": [
    "### Import Libraries"
   ]
  },
  {
   "cell_type": "code",
   "execution_count": 1,
   "id": "cbe66026",
   "metadata": {},
   "outputs": [],
   "source": [
    "import pandas \n",
    "import requests\n",
    "from bs4 import BeautifulSoup"
   ]
  },
  {
   "cell_type": "markdown",
   "id": "65bc45d1",
   "metadata": {},
   "source": [
    "### Define Function"
   ]
  },
  {
   "cell_type": "code",
   "execution_count": 2,
   "id": "3c30be1c",
   "metadata": {},
   "outputs": [],
   "source": [
    "def get_filmography(actor_name):\n",
    "# Format the actor's name for the URL\n",
    "    search_url = f\"https://www.imdb.com/find?q={'+'.join(actor_name.split())}&s=nm\"\n",
    "    print(f\"Search URL: {search_url}\")  \n",
    "    \n",
    "# Get the search results page\n",
    "    response = requests.get(search_url)\n",
    "    soup = BeautifulSoup(response.text, 'html.parser')\n",
    "    \n",
    "    \n",
    "# Find the actor's profile link\n",
    "    actor_profile_result = soup.find('td', class_='result_text')\n",
    "    print(f\"Actor Profile Result: {actor_profile_result}\")\n",
    "    if not actor_profile_result:\n",
    "        print(\"Actor not found.\")\n",
    "        return []\n",
    "    \n",
    "    actor_profile_link = actor_profile_result.a['href']\n",
    "    actor_profile_url = f\"https://www.imdb.com{actor_profile_link}\"\n",
    "    print(f\"Actor Profile URL: {actor_profile_url}\")  \n",
    "    \n",
    "    \n",
    "# Get the actor's profile page\n",
    "    response = requests.get(actor_profile_url)\n",
    "    soup = BeautifulSoup(response.text, 'html.parser')\n",
    "    \n",
    "    \n",
    "# Find all filmography sections\n",
    "    filmography_sections = soup.find_all('div', class_='filmo-category-section')\n",
    "    if not filmography_sections:\n",
    "        print(\"Filmography not found.\")\n",
    "        return []\n",
    "    \n",
    "    \n",
    "# Extract the list of films\n",
    "    film_list = []\n",
    "    for section in filmography_sections:\n",
    "        for movie in section.find_all('div', recursive=False):\n",
    "            year = movie.find('span', class_='year_column').get_text(strip=True)\n",
    "            title = movie.find('b').get_text(strip=True) if movie.find('b') else movie.a.get_text(strip=True)\n",
    "            year = int(''.join(filter(str.isdigit, year))) if year else None\n",
    "            if year and \"TV Series\" not in movie.get_text():\n",
    "                film_list.append((title, year))\n",
    "    \n",
    "    \n",
    "# Sort films by year in descending order\n",
    "    film_list.sort(key=lambda x: x[1], reverse=True)\n",
    "    \n",
    "    return film_list"
   ]
  },
  {
   "cell_type": "markdown",
   "id": "cbd19645",
   "metadata": {},
   "source": [
    "### Example "
   ]
  },
  {
   "cell_type": "code",
   "execution_count": 3,
   "id": "64860b29",
   "metadata": {},
   "outputs": [
    {
     "name": "stdout",
     "output_type": "stream",
     "text": [
      "Search URL: https://www.imdb.com/find?q=Robert+Downey+Jr.&s=nm\n",
      "Actor Profile Result: None\n",
      "Actor not found.\n"
     ]
    }
   ],
   "source": [
    "actor_name = \"Robert Downey Jr.\"\n",
    "filmography = get_filmography(actor_name)\n",
    "for film in filmography:\n",
    "    print(f\"{film[0]} ({film[1]})\")"
   ]
  },
  {
   "cell_type": "markdown",
   "id": "04f3becf",
   "metadata": {},
   "source": [
    "#### Note\n",
    "* If these actors are included in the list you scraped, the code should return their filmography in descending order by year.\n",
    "* If the actor you input is not in the list, the code will inform you that the actor is not present in the list."
   ]
  },
  {
   "cell_type": "code",
   "execution_count": null,
   "id": "d66aa152",
   "metadata": {},
   "outputs": [],
   "source": []
  },
  {
   "cell_type": "code",
   "execution_count": null,
   "id": "2a53df94",
   "metadata": {},
   "outputs": [],
   "source": []
  },
  {
   "cell_type": "code",
   "execution_count": null,
   "id": "f1ff5f1d",
   "metadata": {},
   "outputs": [],
   "source": []
  },
  {
   "cell_type": "code",
   "execution_count": null,
   "id": "e50b97d1",
   "metadata": {},
   "outputs": [],
   "source": []
  },
  {
   "cell_type": "code",
   "execution_count": null,
   "id": "56629de4",
   "metadata": {},
   "outputs": [],
   "source": []
  },
  {
   "cell_type": "code",
   "execution_count": null,
   "id": "fa722d9d",
   "metadata": {},
   "outputs": [],
   "source": []
  }
 ],
 "metadata": {
  "kernelspec": {
   "display_name": "Python 3",
   "language": "python",
   "name": "python3"
  },
  "language_info": {
   "codemirror_mode": {
    "name": "ipython",
    "version": 3
   },
   "file_extension": ".py",
   "mimetype": "text/x-python",
   "name": "python",
   "nbconvert_exporter": "python",
   "pygments_lexer": "ipython3",
   "version": "3.9.13"
  }
 },
 "nbformat": 4,
 "nbformat_minor": 5
}
